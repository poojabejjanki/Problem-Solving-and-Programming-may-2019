{
 "cells": [
  {
   "cell_type": "markdown",
   "metadata": {},
   "source": [
    "## Print basics\n"
   ]
  },
  {
   "cell_type": "code",
   "execution_count": 1,
   "metadata": {},
   "outputs": [
    {
     "name": "stdout",
     "output_type": "stream",
     "text": [
      "Hello World\n"
     ]
    }
   ],
   "source": [
    "\n",
    "print(\"Hello World\")"
   ]
  },
  {
   "cell_type": "markdown",
   "metadata": {},
   "source": [
    "##  Variable Assignment"
   ]
  },
  {
   "cell_type": "code",
   "execution_count": 25,
   "metadata": {},
   "outputs": [
    {
     "name": "stdout",
     "output_type": "stream",
     "text": [
      "123\n",
      "1366580206771230623167027242222703585982775845108966684306376003583531653152857423927833626909289\n"
     ]
    },
    {
     "data": {
      "text/plain": [
       "114374367934617190099880295228066276746218078451850229775887975052369504785666896446606568365201542169649974727730628842345343196581134895919942820874449837212099476648958359023796078549041949007807220625356526926729664064846685758382803707100766740220839267"
      ]
     },
     "execution_count": 25,
     "metadata": {},
     "output_type": "execute_result"
    }
   ],
   "source": [
    "\n",
    "var1 = 123\n",
    "print(var1)\n",
    "var2 = (var1 * var1) ** (23)\n",
    "print(var2)\n",
    "var3 = (var1 ** var1)\n",
    "\n",
    "var3"
   ]
  },
  {
   "cell_type": "markdown",
   "metadata": {},
   "source": [
    "## Count Digits in a number"
   ]
  },
  {
   "cell_type": "code",
   "execution_count": 3,
   "metadata": {},
   "outputs": [
    {
     "name": "stdout",
     "output_type": "stream",
     "text": [
      "97\n"
     ]
    }
   ],
   "source": [
    "print(len(str(var2)))"
   ]
  },
  {
   "cell_type": "markdown",
   "metadata": {},
   "source": [
    "## Getting the data type"
   ]
  },
  {
   "cell_type": "code",
   "execution_count": 4,
   "metadata": {},
   "outputs": [
    {
     "data": {
      "text/plain": [
       "str"
      ]
     },
     "execution_count": 4,
     "metadata": {},
     "output_type": "execute_result"
    }
   ],
   "source": [
    "\n",
    "type(var3)\n",
    "type(\"Python\")"
   ]
  },
  {
   "cell_type": "markdown",
   "metadata": {},
   "source": [
    "##  String Slicing"
   ]
  },
  {
   "cell_type": "code",
   "execution_count": 23,
   "metadata": {},
   "outputs": [
    {
     "name": "stdout",
     "output_type": "stream",
     "text": [
      "P\n",
      "g\n",
      "Python\n",
      "gnimmargorP nohtyP\n",
      "Pto rgamn\n",
      "nhy\n",
      "Programming\n",
      "Programming\n",
      "Programming\n"
     ]
    }
   ],
   "source": [
    "\n",
    "str1 = \"Python Programming\"\n",
    "\n",
    "str1[0] # Accessing the first character\n",
    "print(str1[0])\n",
    "str1[len(str1)-1] #printing the last character\n",
    "print(str1[len(str1)-1])\n",
    "str1[0:6] #Printing first 6 characters\n",
    "print(str1[0:6])\n",
    "str1[len(str1)-1::-1] #Reverse of a String\n",
    "print(str1[len(str1)-1::-1])\n",
    "str1[0:len(str1):2] #Alternate characters\n",
    "print(str1[0:len(str1):2])\n",
    "str1[5::-2] #Reverse Alternate characters\n",
    "print(str1[5::-2])\n",
    "str1[7:] * 10 #repeating a string n times\n",
    "print(str1[7:])\n",
    "print(str1[7:], end='\\n')\n",
    "print(str1[7:], end='\\n')"
   ]
  },
  {
   "cell_type": "markdown",
   "metadata": {},
   "source": [
    "## Lists"
   ]
  },
  {
   "cell_type": "code",
   "execution_count": 9,
   "metadata": {},
   "outputs": [
    {
     "name": "stdout",
     "output_type": "stream",
     "text": [
      "Python\n",
      "[123, 345, 'Programming', 'Python']\n"
     ]
    },
    {
     "data": {
      "text/plain": [
       "[123, 345, 432, 534, 765, 987, 999]"
      ]
     },
     "execution_count": 9,
     "metadata": {},
     "output_type": "execute_result"
    }
   ],
   "source": [
    "li = [123, 345, 'Python']\n",
    "len(li) #Length of the list\n",
    "li[2]\n",
    "#Accessing list elements\n",
    "print(li[2])\n",
    "li[len(li)-1] = 'Programming'#Replacing an element in a list\n",
    "li.append('Python') #Adding a new element to a list\n",
    "print(li)\n",
    "li[2:]\n",
    "li.pop() # removes the last element\n",
    "li.remove(345) #removes the value\n",
    "li.pop(0) #removes the element at the given index\n",
    "li.insert(0, 123)\n",
    "li.insert(1, 345)\n",
    "li2 = [[1,2,3],[4,5,6],[7,8,9]]\n",
    "li2.insert(3,[10,11,12])\n",
    "li2.pop(3)\n",
    "li2.remove([7,8,9])\n",
    "li2 = [[1,2,3],[4,5,6,10],[7,8,9]]\n",
    "li2[1].pop(3)\n",
    "li.pop()\n",
    "li.sort()\n",
    "li.append(987)\n",
    "li.append(534)\n",
    "li.extend([765, 432, 999])\n",
    "li.sort()\n",
    "li"
   ]
  },
  {
   "cell_type": "markdown",
   "metadata": {},
   "source": [
    "## Tuples"
   ]
  },
  {
   "cell_type": "code",
   "execution_count": 10,
   "metadata": {},
   "outputs": [
    {
     "data": {
      "text/plain": [
       "'321543765'"
      ]
     },
     "execution_count": 10,
     "metadata": {},
     "output_type": "execute_result"
    }
   ],
   "source": [
    "t1 = (123, 345, 567)\n",
    "t1[2] + t1[1] #Accessing Elements in a Tuple\n",
    "\n",
    "t1[len(t1)-1] #Last element of a Tuple\n",
    "\n",
    "t1[1:3] \n",
    "str(t1[0])[1] + \" \" + str(t1[1])[1] + \" \" +str(t1[2])[1]\n",
    "#Second character of all elements of a Tuple\n",
    "\n",
    "#Reversing all characters of all elements \n",
    "#in a Tuple\n",
    "t1 = (123, 345, 567)\n",
    "\n",
    "str(t1[0])[2::-1] + str(t1[1])[2::-1] + str(t1[2])[2::-1]"
   ]
  },
  {
   "cell_type": "markdown",
   "metadata": {},
   "source": [
    "## Reading input from user"
   ]
  },
  {
   "cell_type": "code",
   "execution_count": 11,
   "metadata": {},
   "outputs": [
    {
     "name": "stdout",
     "output_type": "stream",
     "text": [
      "hi\n"
     ]
    },
    {
     "data": {
      "text/plain": [
       "'hi'"
      ]
     },
     "execution_count": 11,
     "metadata": {},
     "output_type": "execute_result"
    }
   ],
   "source": [
    "\n",
    "str1 = input()\n",
    "\n",
    "str1"
   ]
  },
  {
   "cell_type": "markdown",
   "metadata": {},
   "source": [
    "\n",
    "## Dictionaries"
   ]
  },
  {
   "cell_type": "code",
   "execution_count": 19,
   "metadata": {},
   "outputs": [
    {
     "name": "stdout",
     "output_type": "stream",
     "text": [
      "{'procedural': 'C', 'Scripting': 'Python', 'Functional': 'Haskell'}\n",
      "{'procedural': 'C', 'Scripting': 'Python', 'Functional': 'Haskell'}\n",
      "dict_values(['C', 'Python', 'Haskell'])\n",
      "dict_keys(['procedural', 'Scripting', 'Functional'])\n",
      "{'Symbolic': 'Mathematica', 'logic': 'Prolog'}\n",
      "{'procedural': 'C', 'Scripting': 'Python', 'Functional': 'Haskell', 'Symbolic': 'Mathematica', 'logic': 'Prolog'}\n",
      "{'procedural': 'C', 'Scripting': 'Python', 'Functional': 'Haskell', 'Symbolic': 'Mathematica', 'logic': 'Prolog', 'ObjectOriented': 'Java'}\n"
     ]
    },
    {
     "data": {
      "text/plain": [
       "'Prolog'"
      ]
     },
     "execution_count": 19,
     "metadata": {},
     "output_type": "execute_result"
    }
   ],
   "source": [
    "\n",
    "d1 = {'procedural':'C', 'Scripting':'Python', 'Functional':'Haskell'}\n",
    "\n",
    "d1\n",
    "print(d1)\n",
    "d1['Scripting']\n",
    "print(d1)\n",
    "d1.values()\n",
    "print(d1.values())\n",
    "d1.keys()\n",
    "print(d1.keys())\n",
    "d2 = {'Symbolic':'Mathematica', 'logic':'Prolog'}\n",
    "print(d2)\n",
    "d1.update(d2) #Merging two dictionaries\n",
    "print(d1)\n",
    "d1['ObjectOriented'] = 'Java' #Adding a new a element to the dictionary\n",
    "print(d1)\n",
    "d1['logic']"
   ]
  }
 ],
 "metadata": {
  "kernelspec": {
   "display_name": "Python 3",
   "language": "python",
   "name": "python3"
  },
  "language_info": {
   "codemirror_mode": {
    "name": "ipython",
    "version": 3
   },
   "file_extension": ".py",
   "mimetype": "text/x-python",
   "name": "python",
   "nbconvert_exporter": "python",
   "pygments_lexer": "ipython3",
   "version": "3.7.3"
  }
 },
 "nbformat": 4,
 "nbformat_minor": 2
}
