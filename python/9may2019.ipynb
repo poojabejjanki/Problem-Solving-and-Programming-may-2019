{
 "cells": [
  {
   "cell_type": "markdown",
   "metadata": {},
   "source": [
    "### Problem 1:\n",
    "#### Problem Statement:  Given 2 int values, return True if one is negative and one is positive. Except if the parameter \"negative\" is True, then return True only if both are negative.\n",
    "\n",
    "#### CONSTRAINTS: Integer,Integer,Boolean value(true,false)\n",
    "\n",
    "#### Test cases \n",
    "* pos_neg(1, -1, False) → True\n",
    "* pos_neg(-1, 1, False) → True\n",
    "* pos_neg(-4, -5, True) → True \n",
    "* pos_neg(-1, 1, True) → False\n",
    "* pos_neg(1, 6, True) → False\n",
    "* pos_neg(-1, -9, False) → False "
   ]
  },
  {
   "cell_type": "code",
   "execution_count": 17,
   "metadata": {},
   "outputs": [
    {
     "name": "stdout",
     "output_type": "stream",
     "text": [
      "True\n",
      "True\n",
      "True\n",
      "False\n",
      "False\n",
      "False\n"
     ]
    }
   ],
   "source": [
    "def pos_neg (n1, n2, b):\n",
    "    return (n1>0 and n2<0 and b==False) or (n1<0 and n2>0 and b==False) or (n1<0 and n2<0 and b==True)\n",
    "    \n",
    "print(pos_neg(1, -1, False))\n",
    "print(pos_neg(-1, 1, False))\n",
    "print(pos_neg(-4, -5, True))  \n",
    "print(pos_neg(-1, 1, True)) \n",
    "print(pos_neg(1, 6, True)) \n",
    "print(pos_neg(-1, -9, False))      "
   ]
  },
  {
   "cell_type": "markdown",
   "metadata": {},
   "source": [
    "### Problem 2:\n",
    "#### Problem Statement: Given an int n, return True if it is within 10 of 100 or 200. Note: abs(num) computes the absolute value of a number.\n",
    "\n",
    "#### CONSTRAINTS: Integer,Integer\n",
    "\n",
    "#### Test cases\n",
    "* near_hundred(93) → True\n",
    "* near_hundred(90) → True\n",
    "* near_hundred(89) → False"
   ]
  },
  {
   "cell_type": "code",
   "execution_count": 1,
   "metadata": {},
   "outputs": [
    {
     "name": "stdout",
     "output_type": "stream",
     "text": [
      "True\n",
      "True\n",
      "False\n"
     ]
    }
   ],
   "source": [
    "def near_100(n1):\n",
    "    return (n1<101 and n1>89)\n",
    "\n",
    "print(near_100(93))\n",
    "print(near_100(90))\n",
    "print(near_100(89))"
   ]
  },
  {
   "cell_type": "markdown",
   "metadata": {},
   "source": [
    "### Problem 3:\n",
    "#### Problem Statement: Given 2 ints, a and b, return True if one if them is 10 or if their sum is 10.\n",
    "\n",
    "#### CONSTRAINTS: Integer,Integer\n",
    "\n",
    "#### Test cases\n",
    "* makes10(9, 10) → True\n",
    "* makes10(9, 9) → False\n",
    "* makes10(1, 9) → True"
   ]
  },
  {
   "cell_type": "code",
   "execution_count": 2,
   "metadata": {},
   "outputs": [
    {
     "name": "stdout",
     "output_type": "stream",
     "text": [
      "True\n",
      "False\n",
      "True\n"
     ]
    }
   ],
   "source": [
    "def makes_10(n1,n2):\n",
    "    return((n1+n2==10) or(n1==10) or (n2== 10))\n",
    "print(makes_10(9,10))\n",
    "print(makes_10(9,9))\n",
    "print(makes_10(9,10))"
   ]
  },
  {
   "cell_type": "markdown",
   "metadata": {},
   "source": [
    "### Problem 4:\n",
    "#### Problem Statement: Create a Random Number Generator  which takes the Range(lb, ub) and returns a Random number in the given range\n",
    "\n",
    "#### CONSTRAINTS: Integer,Integer\n",
    "\n",
    "#### Test cases\n",
    "*  RandomGenerator(1,100)->will be in a range of 1 to 100"
   ]
  },
  {
   "cell_type": "code",
   "execution_count": 3,
   "metadata": {},
   "outputs": [
    {
     "data": {
      "text/plain": [
       "64"
      ]
     },
     "execution_count": 3,
     "metadata": {},
     "output_type": "execute_result"
    }
   ],
   "source": [
    "import random\n",
    "\n",
    "def  randomGenerator(lb,ub):\n",
    "    return random.randrange(lb+1,ub)\n",
    "\n",
    "randomGenerator(1,101)"
   ]
  },
  {
   "cell_type": "markdown",
   "metadata": {},
   "source": [
    "##### Alternative Solution"
   ]
  },
  {
   "cell_type": "code",
   "execution_count": 4,
   "metadata": {},
   "outputs": [
    {
     "data": {
      "text/plain": [
       "47"
      ]
     },
     "execution_count": 4,
     "metadata": {},
     "output_type": "execute_result"
    }
   ],
   "source": [
    "from random import randrange\n",
    "\n",
    "def  randomGenerator(lb,ub):\n",
    "    return randrange(lb+1,ub)\n",
    "\n",
    "randomGenerator(1,101)"
   ]
  },
  {
   "cell_type": "markdown",
   "metadata": {},
   "source": [
    "### Problem 5:\n",
    "#### Problem Statement: Create a Random Number Generator  which takes the Range(lb, ub) and returns a Random number in the given range\n",
    "\n",
    "#### CONSTRAINTS: Integer,Integer\n",
    "\n",
    "#### Test cases\n",
    "*  RandomGenerator(1,100)->will be in a range of 1 to 100"
   ]
  },
  {
   "cell_type": "code",
   "execution_count": 5,
   "metadata": {},
   "outputs": [
    {
     "data": {
      "text/plain": [
       "878"
      ]
     },
     "execution_count": 5,
     "metadata": {},
     "output_type": "execute_result"
    }
   ],
   "source": [
    "from random import randint\n",
    "\n",
    "def sumRandomNumber(n,ib,ub):\n",
    "    sum=0\n",
    "    for count in range(1,n+1):\n",
    "        sum=sum+ randint(ib,ub)\n",
    "        return sum\n",
    "sumRandomNumber(10,100,1000)"
   ]
  },
  {
   "cell_type": "markdown",
   "metadata": {},
   "source": [
    "### Problem 6:\n",
    "#### Problem Statement:  Create a Sum of N Random Number takes the Range(lb, ub) and returns a Random number in the given range\n",
    "\n",
    "#### CONSTRAINTS: Integer,Integer\n",
    "\n",
    "#### Test cases \n",
    "data( a[1,2,3,4,5] ) -> Max = 5, Min = 1, Avg = 3"
   ]
  },
  {
   "cell_type": "code",
   "execution_count": 6,
   "metadata": {},
   "outputs": [
    {
     "name": "stdout",
     "output_type": "stream",
     "text": [
      "max 5\n",
      "min 1\n",
      "avg 3.0\n"
     ]
    }
   ],
   "source": [
    "def array(a):\n",
    "    print(\"max\",max(a))\n",
    "    print(\"min\",min(a))\n",
    "    print(\"avg\",(max(a)+min(a))/2)\n",
    "a=[1,2,3,4,5]\n",
    "array(a)"
   ]
  },
  {
   "cell_type": "markdown",
   "metadata": {},
   "source": [
    "### Problem 7:\n",
    "#### Problem Statement: Design a procedure to perform Linear search on list of N unsorted numbers. It take an array and the key element to be searched and returns the index of the element of key element if found. Else returns -1\n",
    "\n",
    "#### CONSTRAINTS: Integer,Integer\n",
    "\n",
    "#### Test cases \n",
    "* linearSearch([1,4,8,0,3,5,6],3)-> 4\n",
    "* linearSearch([15,12,9,6,3,-3],0)-> 1\n",
    "* linearSearch([321,543,567,789],567)-> 2"
   ]
  },
  {
   "cell_type": "code",
   "execution_count": 7,
   "metadata": {},
   "outputs": [
    {
     "name": "stdout",
     "output_type": "stream",
     "text": [
      "1\n",
      "-1\n",
      "2\n"
     ]
    }
   ],
   "source": [
    "def linearSearch(li1,k):\n",
    "    for index in range(0,len(li1)):\n",
    "        if(li1[index]==k):\n",
    "            return index\n",
    "        \n",
    "    return-1        \n",
    "print(linearSearch([1,4,8,0,3,5,6],4))\n",
    "print(linearSearch([15,12,9,6,3,-3],0))\n",
    "print(linearSearch([321,543,567,789],567))\n",
    "    "
   ]
  },
  {
   "cell_type": "markdown",
   "metadata": {},
   "source": [
    "### Problem 8:\n",
    "#### Problem Statement:Design a procedure to determine if a given string is a Palindrome\n",
    "\n",
    "#### CONSTRAINTS: Integer,Integer\n",
    "\n",
    "#### Test cases\n",
    "* Palindrome(\"racecar\") -> True\n",
    "* Palindrome(\"raptor\") -> False"
   ]
  },
  {
   "cell_type": "code",
   "execution_count": 8,
   "metadata": {
    "scrolled": true
   },
   "outputs": [
    {
     "name": "stdout",
     "output_type": "stream",
     "text": [
      "False\n",
      "True\n"
     ]
    }
   ],
   "source": [
    "def palindrome(str1):\n",
    "    for index in range(0,len(str1)-1):\n",
    "        rev=(str1==(str1[::-1]))\n",
    "    return rev\n",
    "\n",
    "print(palindrome(\"raptor\"))\n",
    "print(palindrome(\"malayalam\"))"
   ]
  },
  {
   "cell_type": "markdown",
   "metadata": {},
   "source": [
    "### Problem 9:\n",
    "#### Problem Statement:Design a procedure to determine if a given string is a Palindrome\n",
    "\n",
    "#### CONSTRAINTS: Integer,Integer\n",
    "\n",
    "#### Test case\n",
    "* Squareroot(36) -> 6"
   ]
  },
  {
   "cell_type": "code",
   "execution_count": 9,
   "metadata": {},
   "outputs": [
    {
     "name": "stdout",
     "output_type": "stream",
     "text": [
      "6.0\n",
      "9.9498743710662\n"
     ]
    }
   ],
   "source": [
    "def sqrt(n1):\n",
    "    return n1**(1/2)\n",
    "print(sqrt(36))\n",
    "print(sqrt(99))"
   ]
  },
  {
   "cell_type": "markdown",
   "metadata": {},
   "source": [
    "### Problem 10:\n",
    "#### Problem Statement:Arithmetic Operations\n",
    "\n",
    "#### CONSTRAINTS: Integer,Integer\n",
    "\n",
    "#### Test case\n",
    "* Multiplication\n",
    "* Division\n",
    "* Addition\n",
    "* Subtraction\n",
    "* Reminder\n",
    "* Power"
   ]
  },
  {
   "cell_type": "code",
   "execution_count": 10,
   "metadata": {},
   "outputs": [],
   "source": [
    "var1=123\n",
    "var2=456"
   ]
  },
  {
   "cell_type": "code",
   "execution_count": 11,
   "metadata": {},
   "outputs": [],
   "source": [
    "var3=var1*var2\n",
    "var4=var1/var2\n",
    "var5=var1+var2\n",
    "var6=var1-var2\n",
    "var7=var1%var2\n",
    "var8=var1**var2"
   ]
  },
  {
   "cell_type": "code",
   "execution_count": 12,
   "metadata": {},
   "outputs": [
    {
     "data": {
      "text/plain": [
       "56088"
      ]
     },
     "execution_count": 12,
     "metadata": {},
     "output_type": "execute_result"
    }
   ],
   "source": [
    "var3"
   ]
  },
  {
   "cell_type": "code",
   "execution_count": 13,
   "metadata": {},
   "outputs": [
    {
     "data": {
      "text/plain": [
       "0.26973684210526316"
      ]
     },
     "execution_count": 13,
     "metadata": {},
     "output_type": "execute_result"
    }
   ],
   "source": [
    "var4"
   ]
  },
  {
   "cell_type": "code",
   "execution_count": 14,
   "metadata": {},
   "outputs": [
    {
     "data": {
      "text/plain": [
       "579"
      ]
     },
     "execution_count": 14,
     "metadata": {},
     "output_type": "execute_result"
    }
   ],
   "source": [
    "var5"
   ]
  },
  {
   "cell_type": "code",
   "execution_count": 15,
   "metadata": {},
   "outputs": [
    {
     "data": {
      "text/plain": [
       "-333"
      ]
     },
     "execution_count": 15,
     "metadata": {},
     "output_type": "execute_result"
    }
   ],
   "source": [
    "var6"
   ]
  },
  {
   "cell_type": "code",
   "execution_count": 16,
   "metadata": {},
   "outputs": [
    {
     "data": {
      "text/plain": [
       "123"
      ]
     },
     "execution_count": 16,
     "metadata": {},
     "output_type": "execute_result"
    }
   ],
   "source": [
    "var7"
   ]
  },
  {
   "cell_type": "code",
   "execution_count": 17,
   "metadata": {},
   "outputs": [
    {
     "data": {
      "text/plain": [
       "99250068772098856700831462057469632637295940819886900519816298881382867104749399077921128661426144638055424236936271872492800352741649902118143819672601569998100120790496759517636465445895625741609866209900500198407153244604778968016963028050310261417615914468729918240685487878617645976939063464357986165711730976399478507649228686341466967167910126653342134942744851463899927487092486610977146112763567101672645953132196481439339873017088140414661271198500333255713096142335151414630651683065518784081203678487703002802082091236603519026256880624499681781387227574035484831271515683123742149095569260463609655977700938844580611931246495166208695540313698140011638027322566252689780838136351828795314272162111222231170901715612355701347552371530013693855379834865667060014643302459100429783653966913783002290784283455628283355470529932956051484477129333881159930212758687602795088579230431661696010232187390436601614145603241902386663442520160735566561"
      ]
     },
     "execution_count": 17,
     "metadata": {},
     "output_type": "execute_result"
    }
   ],
   "source": [
    "var8"
   ]
  },
  {
   "cell_type": "markdown",
   "metadata": {},
   "source": [
    "### Problem 11:\n",
    "#### Problem Statement:Determining whether a number is Even or Odd\n",
    "\n",
    "#### CONSTRAINTS: Integer\n",
    "\n",
    "#### Test case\n",
    "* even_odd(20)\n",
    "* even_odd(25)"
   ]
  },
  {
   "cell_type": "code",
   "execution_count": 18,
   "metadata": {},
   "outputs": [
    {
     "name": "stdout",
     "output_type": "stream",
     "text": [
      "True\n",
      "False\n"
     ]
    }
   ],
   "source": [
    "def even_odd(n1):\n",
    "    return (n1%2==0)\n",
    "print(even_odd(20))\n",
    "print(even_odd(25))"
   ]
  },
  {
   "cell_type": "markdown",
   "metadata": {},
   "source": [
    "### Problem 12:\n",
    "#### Problem Statement:evaluate the polynomial\n",
    " f(x)= x^3 + 2 X^2 + 3 X - 10 for x in the range [1, 1000]\n",
    "\n",
    "#### CONSTRAINTS: Integer\n",
    "\n",
    "#### Test case\n",
    "* user Input "
   ]
  },
  {
   "cell_type": "code",
   "execution_count": 21,
   "metadata": {},
   "outputs": [
    {
     "name": "stdout",
     "output_type": "stream",
     "text": [
      "enter x value3\n",
      "44\n"
     ]
    }
   ],
   "source": [
    "x=int(input('enter x value'))\n",
    "fx=(x)**3 + (2*(x)**2) + (3*x)- 10 \n",
    "print(fx)"
   ]
  },
  {
   "cell_type": "markdown",
   "metadata": {},
   "source": [
    "### Problem 13:\n",
    "#### Problem Statement: generate multiplication tables. \n",
    "\n",
    "#### CONSTRAINTS:  Integer\n",
    "\n",
    "#### Test cases\n",
    "* 3 X 5 = 15\n",
    "* 3 X 6 = 18\n",
    "* 3 X 7 = 21"
   ]
  },
  {
   "cell_type": "code",
   "execution_count": 20,
   "metadata": {},
   "outputs": [
    {
     "name": "stdout",
     "output_type": "stream",
     "text": [
      "3 X 1 = 3\n",
      "3 X 2 = 6\n",
      "3 X 3 = 9\n",
      "3 X 4 = 12\n",
      "3 X 5 = 15\n",
      "3 X 6 = 18\n",
      "3 X 7 = 21\n",
      "3 X 8 = 24\n",
      "3 X 9 = 27\n",
      "3 X 10 = 30\n",
      "None\n",
      "4 X 1 = 4\n",
      "4 X 2 = 8\n",
      "4 X 3 = 12\n",
      "4 X 4 = 16\n",
      "4 X 5 = 20\n",
      "4 X 6 = 24\n",
      "4 X 7 = 28\n",
      "4 X 8 = 32\n",
      "4 X 9 = 36\n",
      "4 X 10 = 40\n",
      "None\n",
      "5 X 1 = 5\n",
      "5 X 2 = 10\n",
      "5 X 3 = 15\n",
      "5 X 4 = 20\n",
      "5 X 5 = 25\n",
      "5 X 6 = 30\n",
      "5 X 7 = 35\n",
      "5 X 8 = 40\n",
      "5 X 9 = 45\n",
      "5 X 10 = 50\n",
      "None\n"
     ]
    }
   ],
   "source": [
    "def table(n1):\n",
    "    for c in range (1,11):\n",
    "        print(n1,'X',c,\"=\",n1*c)\n",
    "        \n",
    "print(table(3))\n",
    "print(table(4))\n",
    "print(table(5))"
   ]
  },
  {
   "cell_type": "code",
   "execution_count": null,
   "metadata": {},
   "outputs": [],
   "source": []
  }
 ],
 "metadata": {
  "kernelspec": {
   "display_name": "Python 3",
   "language": "python",
   "name": "python3"
  },
  "language_info": {
   "codemirror_mode": {
    "name": "ipython",
    "version": 3
   },
   "file_extension": ".py",
   "mimetype": "text/x-python",
   "name": "python",
   "nbconvert_exporter": "python",
   "pygments_lexer": "ipython3",
   "version": "3.7.3"
  }
 },
 "nbformat": 4,
 "nbformat_minor": 2
}
