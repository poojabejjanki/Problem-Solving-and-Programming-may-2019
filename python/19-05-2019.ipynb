{
 "cells": [
  {
   "cell_type": "code",
   "execution_count": null,
   "metadata": {},
   "outputs": [],
   "source": [
    "1\n",
    "\n",
    "3\n",
    "\n",
    "1->1\n",
    "\n",
    "2->2/2->\n",
    "2  1\n",
    "\n",
    "3->3*3+1=10->10/2=5"
   ]
  },
  {
   "cell_type": "code",
   "execution_count": 6,
   "metadata": {},
   "outputs": [
    {
     "name": "stdout",
     "output_type": "stream",
     "text": [
      "enter lb value1\n",
      "enter ub  value3\n",
      "[3]\n",
      "[4, 1, 10]\n"
     ]
    }
   ],
   "source": [
    "li=[]\n",
    "ct=[]\n",
    "#li[0]=m\n",
    "def fun(lb,ub): \n",
    "    for i in range(lb,ub+1):       \n",
    "        if i%2==0:\n",
    "            #i=i/2\n",
    "            \n",
    "            i=i/2\n",
    "        else:\n",
    "            \n",
    "            i=(i*3)+1\n",
    "        li.append(i)\n",
    "            \n",
    "\n",
    "    ct.append(len(li))\n",
    "    print(ct)\n",
    "    print(li)\n",
    "    \n",
    "        \n",
    "\n",
    "\n",
    "lb=int(input('enter lb value'))\n",
    "ub=int(input('enter ub  value'))\n",
    "fun(lb,ub)"
   ]
  },
  {
   "cell_type": "code",
   "execution_count": 15,
   "metadata": {},
   "outputs": [
    {
     "name": "stdout",
     "output_type": "stream",
     "text": [
      "enter lb value900\n",
      "enter ub  value1000\n"
     ]
    },
    {
     "data": {
      "text/plain": [
       "174"
      ]
     },
     "execution_count": 15,
     "metadata": {},
     "output_type": "execute_result"
    }
   ],
   "source": [
    "li=[]\n",
    "def genserlen(n):\n",
    "    li=[]\n",
    "    len=1\n",
    "    while n!=1:\n",
    "        if n% 2==0:                  \n",
    "            n=n/2\n",
    "        else:\n",
    "            n=n*3+1\n",
    "        len += 1        \n",
    "    return len        \n",
    "\n",
    "def ms(lb,ub):\n",
    "    maxl=1\n",
    "    for i in range(lb,ub+1):\n",
    "        len=genserlen(i)\n",
    "        if maxl<len:\n",
    "            maxl=len\n",
    "    return maxl\n",
    "    \n",
    "    \n",
    "\n",
    "\n",
    "lb=int(input('enter lb value'))\n",
    "ub=int(input('enter ub  value'))\n",
    "ms(lb,ub)\n",
    "#fun(lb,ub)"
   ]
  },
  {
   "cell_type": "code",
   "execution_count": 4,
   "metadata": {},
   "outputs": [
    {
     "name": "stdout",
     "output_type": "stream",
     "text": [
      "enter lb value900\n",
      "enter ub  value1000\n"
     ]
    },
    {
     "data": {
      "text/plain": [
       "174"
      ]
     },
     "execution_count": 4,
     "metadata": {},
     "output_type": "execute_result"
    }
   ],
   "source": [
    "li=[]\n",
    "def genserlen(n):\n",
    "    li=[]\n",
    "    len=1\n",
    "    while n!=1:\n",
    "        if n% 2==0:                  \n",
    "            n=n/2\n",
    "        else:\n",
    "            n=n*3+1\n",
    "        len += 1        \n",
    "    return len        \n",
    "\n",
    "def ms(i,j):\n",
    "    return max(map(genserlen,range(i,j+1)))\n",
    "\n",
    "lb=int(input('enter lb value'))\n",
    "ub=int(input('enter ub  value'))\n",
    "ms(lb,ub)"
   ]
  },
  {
   "cell_type": "code",
   "execution_count": null,
   "metadata": {},
   "outputs": [],
   "source": [
    "n,n/2 or 3n+1\n",
    "\n",
    "4\n",
    "len(4,2,1)=3\n",
    "range i,j+1\n",
    "i, i+1,i+2-----j"
   ]
  },
  {
   "cell_type": "code",
   "execution_count": 2,
   "metadata": {},
   "outputs": [
    {
     "name": "stdout",
     "output_type": "stream",
     "text": [
      "enter lb value201\n",
      "enter ub  value210\n"
     ]
    },
    {
     "data": {
      "text/plain": [
       "89"
      ]
     },
     "execution_count": 2,
     "metadata": {},
     "output_type": "execute_result"
    }
   ],
   "source": [
    "li=[]\n",
    "def genserlen(n):\n",
    "    li=[]\n",
    "    len=1\n",
    "    while n!=1:\n",
    "        if n% 2==0:                  \n",
    "            n=n/2\n",
    "        else:\n",
    "            n=n*3+1\n",
    "        len += 1        \n",
    "    return len        \n",
    "\n",
    "def ms(i,j):\n",
    "    maxl=0\n",
    "    lenlist=[genserlen(k) for k in range(i,j+1)]\n",
    "    return max(lenlist)\n",
    "\n",
    "lb=int(input('enter lb value'))\n",
    "ub=int(input('enter ub  value'))\n",
    "ms(lb,ub)"
   ]
  },
  {
   "cell_type": "code",
   "execution_count": null,
   "metadata": {},
   "outputs": [],
   "source": []
  },
  {
   "cell_type": "code",
   "execution_count": null,
   "metadata": {},
   "outputs": [],
   "source": []
  },
  {
   "cell_type": "code",
   "execution_count": null,
   "metadata": {},
   "outputs": [],
   "source": []
  },
  {
   "cell_type": "code",
   "execution_count": null,
   "metadata": {},
   "outputs": [],
   "source": []
  },
  {
   "cell_type": "code",
   "execution_count": null,
   "metadata": {},
   "outputs": [],
   "source": []
  },
  {
   "cell_type": "code",
   "execution_count": null,
   "metadata": {},
   "outputs": [],
   "source": []
  },
  {
   "cell_type": "code",
   "execution_count": null,
   "metadata": {},
   "outputs": [],
   "source": []
  },
  {
   "cell_type": "code",
   "execution_count": null,
   "metadata": {},
   "outputs": [],
   "source": []
  },
  {
   "cell_type": "code",
   "execution_count": null,
   "metadata": {},
   "outputs": [],
   "source": []
  },
  {
   "cell_type": "code",
   "execution_count": null,
   "metadata": {},
   "outputs": [],
   "source": []
  },
  {
   "cell_type": "code",
   "execution_count": null,
   "metadata": {},
   "outputs": [],
   "source": []
  },
  {
   "cell_type": "code",
   "execution_count": null,
   "metadata": {},
   "outputs": [],
   "source": []
  },
  {
   "cell_type": "code",
   "execution_count": null,
   "metadata": {},
   "outputs": [],
   "source": []
  },
  {
   "cell_type": "code",
   "execution_count": null,
   "metadata": {},
   "outputs": [],
   "source": []
  }
 ],
 "metadata": {
  "kernelspec": {
   "display_name": "Python 3",
   "language": "python",
   "name": "python3"
  },
  "language_info": {
   "codemirror_mode": {
    "name": "ipython",
    "version": 3
   },
   "file_extension": ".py",
   "mimetype": "text/x-python",
   "name": "python",
   "nbconvert_exporter": "python",
   "pygments_lexer": "ipython3",
   "version": "3.7.3"
  }
 },
 "nbformat": 4,
 "nbformat_minor": 2
}
