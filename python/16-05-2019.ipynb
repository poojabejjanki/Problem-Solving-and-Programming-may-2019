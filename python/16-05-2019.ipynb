{
 "cells": [
  {
   "cell_type": "markdown",
   "metadata": {},
   "source": [
    "## Problem 1\n",
    "## problem Statement\n",
    "define a function to read data from a text file"
   ]
  },
  {
   "cell_type": "code",
   "execution_count": null,
   "metadata": {},
   "outputs": [],
   "source": [
    "## Problem 1\n",
    "## problem Statement\n",
    "define a function to read data from a text file\n",
    "path: \n",
    "python files->python note book"
   ]
  },
  {
   "cell_type": "code",
   "execution_count": 4,
   "metadata": {},
   "outputs": [
    {
     "data": {
      "text/plain": [
       "'toipc about files\\nfile 1\\nfile 2\\n'"
      ]
     },
     "execution_count": 4,
     "metadata": {},
     "output_type": "execute_result"
    }
   ],
   "source": [
    "def readfiledata(filename):\n",
    "    f=open(filename,'r')\n",
    "  #  filedata=f.readline()\n",
    "   # filedata +=f.readline()\n",
    "    filedata=f.read()\n",
    "    f.close()\n",
    "    return filedata\n",
    "readfiledata('data files/data.txt')"
   ]
  },
  {
   "cell_type": "code",
   "execution_count": 7,
   "metadata": {},
   "outputs": [
    {
     "data": {
      "text/plain": [
       "'toipc about files\\nfile 1\\nfile 2\\n'"
      ]
     },
     "execution_count": 7,
     "metadata": {},
     "output_type": "execute_result"
    }
   ],
   "source": [
    "def readfiledata(filename):\n",
    "    with open(filename,'r') as f:\n",
    "        filedata=f.read()\n",
    "    f.close()\n",
    "    return filedata\n",
    "        \n",
    "  #  filedata=f.readline()\n",
    "   # filedata +=f.readline()\n",
    "    \n",
    "readfiledata('data files/data.txt')"
   ]
  },
  {
   "cell_type": "code",
   "execution_count": 8,
   "metadata": {},
   "outputs": [
    {
     "name": "stdout",
     "output_type": "stream",
     "text": [
      "toipc about files\n",
      "\n",
      "file 1\n",
      "\n",
      "file 2\n",
      "\n"
     ]
    }
   ],
   "source": [
    "def readfiledata(filename):\n",
    "    with open(filename,'r') as f:\n",
    "        for line in f:\n",
    "            print(line)\n",
    "    return\n",
    "    \n",
    "readfiledata('data files/data.txt')"
   ]
  },
  {
   "cell_type": "code",
   "execution_count": 10,
   "metadata": {},
   "outputs": [
    {
     "name": "stdout",
     "output_type": "stream",
     "text": [
      "toipc about files\n",
      " file 1\n",
      " file 2\n",
      " "
     ]
    }
   ],
   "source": [
    "def readfiledata(filename):\n",
    "    with open(filename,'r') as f:\n",
    "        for line in f:\n",
    "            print(line,end=' ')\n",
    "    return\n",
    "    \n",
    "readfiledata('data files/data.txt')"
   ]
  },
  {
   "cell_type": "code",
   "execution_count": 11,
   "metadata": {},
   "outputs": [
    {
     "name": "stdout",
     "output_type": "stream",
     "text": [
      "toipc about files\n",
      "file 1\n",
      "file 2\n",
      "\n"
     ]
    }
   ],
   "source": [
    "def readfiledata(filename):\n",
    "    with open(filename,'r') as f:\n",
    "        print(f.read())\n",
    "    return\n",
    "        \n",
    "    \n",
    "readfiledata('data files/data.txt')"
   ]
  },
  {
   "cell_type": "code",
   "execution_count": 22,
   "metadata": {},
   "outputs": [
    {
     "name": "stdout",
     "output_type": "stream",
     "text": [
      "toipc about files\n",
      "file 1\n",
      "file 2\n",
      "\n",
      "data written in to filewrite\n"
     ]
    }
   ],
   "source": [
    "def readfiledata(filename):\n",
    "    with open(filename,'r') as f: # read the data from the file\n",
    "        print(f.read())\n",
    "    return\n",
    "def writeintofile(filename,data):# write in to files\n",
    "    with open(filename,'w') as f:\n",
    "        f.write(data)\n",
    "    return\n",
    "   \n",
    "readfiledata('data files/data.txt')\n",
    "writeintofile('data files/filewrite.txt','data written in to filewrite')\n",
    "readfiledata('data files/filewrite.txt')"
   ]
  },
  {
   "cell_type": "code",
   "execution_count": 23,
   "metadata": {},
   "outputs": [
    {
     "name": "stdout",
     "output_type": "stream",
     "text": [
      "data written in to filewriteaddind some other content using append mode\n",
      "\n"
     ]
    }
   ],
   "source": [
    "def readfiledata(filename):\n",
    "    with open(filename,'r') as f: # read the data from the file\n",
    "        print(f.read())\n",
    "    return\n",
    "\n",
    "readfiledata('data files/filewrite.txt')"
   ]
  },
  {
   "cell_type": "markdown",
   "metadata": {},
   "source": [
    "#### Problem statement 2\n",
    "define a function to generate a marks data file for 1300 students such that each mark is entered in a new line.marks range from 0 -100(inclusive) as random numbers\n",
    "#### constraints\n",
    "#### Test cases\n"
   ]
  },
  {
   "cell_type": "code",
   "execution_count": 5,
   "metadata": {},
   "outputs": [],
   "source": [
    "import random\n",
    "def readfiledata(filename):\n",
    "    with open(filename,'r') as f: # read the data from the file\n",
    "        print(f.read())\n",
    "    return\n",
    "\n",
    "def genmarks(n,filename):\n",
    "    with open(filename,'w') as marksfile:\n",
    "        for i in range (0,n):\n",
    "            marks=random.randint(0,100)\n",
    "            marksfile.write(str(marks)+'\\n')\n",
    "    return\n",
    "genmarks(1300,'data files/marksdata.txt')\n",
    "\n",
    "#readfiledata('data files/marksdata.txt')"
   ]
  },
  {
   "cell_type": "markdown",
   "metadata": {},
   "source": [
    "#### Problem statement 2\n",
    "Define a function to generate a marks data file for 1300 students such that each mark is entered in a new line.marks range from 0 -100(inclusive) as random numbers\n",
    "* highest marks\n",
    "* lowest marks\n",
    "* average mark\n",
    "* no of students with distinction(>80)\n",
    "* no of students with first class(>60)\n",
    "* no of students with second class(>50)\n",
    "* no of students with third class(>40)\n",
    "* no of students failed(<40)\n",
    "\n",
    "#### constraints\n",
    "#### Test cases"
   ]
  },
  {
   "cell_type": "code",
   "execution_count": 28,
   "metadata": {},
   "outputs": [
    {
     "name": "stdout",
     "output_type": "stream",
     "text": [
      "distinction - 252\n",
      "first class - 252\n",
      "second class - 252\n",
      "third class - 252\n",
      "fail- 252\n"
     ]
    }
   ],
   "source": [
    "\n",
    "import random\n",
    "def genmarks(n,filename):\n",
    "    with open(filename,'r') as r:\n",
    "        li=[]\n",
    "        for i in r:\n",
    "            li.append(int(i))\n",
    "      #  return max(li),min(li),sum(li)//n\n",
    "        maximun=max(li)\n",
    "        minimum=min(li)\n",
    "        average=sum(li)//n\n",
    "        dis=0\n",
    "        fc=0\n",
    "        s=0\n",
    "        t=0\n",
    "        f=0\n",
    "        for i in range(0,1300):\n",
    "            if li[i]>80:\n",
    "                dis += 1\n",
    "            elif li[i]>=60 and li[i]<=80:\n",
    "                fc += 1\n",
    "            elif li[i]>=50 and li[i]<60:\n",
    "                s += 1\n",
    "            elif li[i]>=40 and li[i]>50:\n",
    "                t += 1\n",
    "            else:\n",
    "                f += 1\n",
    "                \n",
    "        print('distinction -',dis)\n",
    "        print('first class -',dis)\n",
    "        print('second class -',dis)\n",
    "        print('third class -',dis)\n",
    "        print('fail-',dis)\n",
    "  \n",
    "genmarks(1300,'data files/marksdata.txt')"
   ]
  },
  {
   "cell_type": "code",
   "execution_count": 1,
   "metadata": {
    "scrolled": true
   },
   "outputs": [
    {
     "name": "stdout",
     "output_type": "stream",
     "text": [
      "['1', '2', '3', '4', '5']\n",
      "<class 'str'>\n"
     ]
    }
   ],
   "source": [
    "li=[1,2,3,4,5]\n",
    "s=list(map(str,li))\n",
    "print(s)\n",
    "print(type(s[0]))\n",
    "\n"
   ]
  },
  {
   "cell_type": "code",
   "execution_count": 2,
   "metadata": {},
   "outputs": [
    {
     "data": {
      "text/plain": [
       "'2'"
      ]
     },
     "execution_count": 2,
     "metadata": {},
     "output_type": "execute_result"
    }
   ],
   "source": [
    "li=[1,2,3,4,5]\n",
    "s = str(li)\n",
    "s = list(map(str,li))\n",
    "s[1]\n"
   ]
  },
  {
   "cell_type": "code",
   "execution_count": 4,
   "metadata": {},
   "outputs": [
    {
     "data": {
      "text/plain": [
       "'2'"
      ]
     },
     "execution_count": 4,
     "metadata": {},
     "output_type": "execute_result"
    }
   ],
   "source": [
    "import timeit\n",
    "li=[1,2,3,4,5]\n",
    "s = str(li)\n",
    "s = list(map(str,li))\n",
    "s[1]\n"
   ]
  },
  {
   "cell_type": "code",
   "execution_count": 25,
   "metadata": {},
   "outputs": [
    {
     "name": "stdout",
     "output_type": "stream",
     "text": [
      "highestmarks:- 100 lowest marks- 0 average- 50.106153846153845 distinction- 125 first class- 116 second class- 128 fail- 490\n"
     ]
    },
    {
     "data": {
      "text/plain": [
       "0.011882808999985173"
      ]
     },
     "execution_count": 25,
     "metadata": {},
     "output_type": "execute_result"
    }
   ],
   "source": [
    "import timeit\n",
    "def mark(n,filename):\n",
    "    start=timeit.default_timer()\n",
    "    li=[]\n",
    "    with open (filename,'r') as r:\n",
    "        li=list(map(int,r))\n",
    "#         for line in r:\n",
    "#             li.append(int(line))\n",
    "        a=sum(1 for i in li if i>80)\n",
    "        b=sum(1 for i in li if 90>i>80)\n",
    "        c=sum(1 for i in li if 80>i>70)\n",
    "        d=sum(1 for i in li if 0<i<40)\n",
    "   \n",
    "    print('highestmarks:-',max(li),'lowest marks-',min(li),'average-',sum(li)/n,'distinction-',a,'first class-',b,'second class-',c,'fail-',d)\n",
    "    return timeit.default_timer()-start\n",
    "mark(1300,'marksdata.txt')"
   ]
  },
  {
   "cell_type": "code",
   "execution_count": null,
   "metadata": {},
   "outputs": [],
   "source": []
  }
 ],
 "metadata": {
  "kernelspec": {
   "display_name": "Python 3",
   "language": "python",
   "name": "python3"
  },
  "language_info": {
   "codemirror_mode": {
    "name": "ipython",
    "version": 3
   },
   "file_extension": ".py",
   "mimetype": "text/x-python",
   "name": "python",
   "nbconvert_exporter": "python",
   "pygments_lexer": "ipython3",
   "version": "3.7.3"
  }
 },
 "nbformat": 4,
 "nbformat_minor": 2
}
