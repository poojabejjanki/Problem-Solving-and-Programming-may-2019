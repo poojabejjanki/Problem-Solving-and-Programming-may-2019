{
 "cells": [
  {
   "cell_type": "markdown",
   "metadata": {},
   "source": [
    "## packages\n",
    " collection of python scripts(.py)\n",
    " Module- A Python script"
   ]
  },
  {
   "cell_type": "code",
   "execution_count": 5,
   "metadata": {},
   "outputs": [
    {
     "data": {
      "text/plain": [
       "60"
      ]
     },
     "execution_count": 5,
     "metadata": {},
     "output_type": "execute_result"
    }
   ],
   "source": [
    "from text import fact\n",
    "fact(5)"
   ]
  },
  {
   "cell_type": "code",
   "execution_count": 7,
   "metadata": {},
   "outputs": [
    {
     "ename": "ModuleNotFoundError",
     "evalue": "No module named 'string.stringfunctions'; 'string' is not a package",
     "output_type": "error",
     "traceback": [
      "\u001b[1;31m---------------------------------------------------------------------------\u001b[0m",
      "\u001b[1;31mModuleNotFoundError\u001b[0m                       Traceback (most recent call last)",
      "\u001b[1;32m<ipython-input-7-f9b75b20dec7>\u001b[0m in \u001b[0;36m<module>\u001b[1;34m\u001b[0m\n\u001b[1;32m----> 1\u001b[1;33m \u001b[1;32mfrom\u001b[0m \u001b[0mstring\u001b[0m\u001b[1;33m.\u001b[0m\u001b[0mstringfunctions\u001b[0m \u001b[1;32mimport\u001b[0m \u001b[0maltchar\u001b[0m \u001b[1;32mas\u001b[0m \u001b[0maf\u001b[0m\u001b[1;33m\u001b[0m\u001b[1;33m\u001b[0m\u001b[0m\n\u001b[0m\u001b[0;32m      2\u001b[0m \u001b[0maf\u001b[0m\u001b[1;33m(\u001b[0m\u001b[1;34m'python'\u001b[0m\u001b[1;33m)\u001b[0m\u001b[1;33m\u001b[0m\u001b[1;33m\u001b[0m\u001b[0m\n",
      "\u001b[1;31mModuleNotFoundError\u001b[0m: No module named 'string.stringfunctions'; 'string' is not a package"
     ]
    }
   ],
   "source": [
    "from string.stringfunctions import altchar as af\n",
    "af('python')"
   ]
  },
  {
   "cell_type": "code",
   "execution_count": 13,
   "metadata": {},
   "outputs": [
    {
     "name": "stdout",
     "output_type": "stream",
     "text": [
      "nohtyp\n"
     ]
    },
    {
     "data": {
      "text/plain": [
       "'pto'"
      ]
     },
     "execution_count": 13,
     "metadata": {},
     "output_type": "execute_result"
    }
   ],
   "source": [
    "from strings.stringfunctions import *\n",
    "print(revstr('python'))\n",
    "altchar('python')"
   ]
  },
  {
   "cell_type": "code",
   "execution_count": 15,
   "metadata": {},
   "outputs": [
    {
     "data": {
      "text/plain": [
       "123"
      ]
     },
     "execution_count": 15,
     "metadata": {},
     "output_type": "execute_result"
    }
   ],
   "source": [
    "\n",
    "import math\n",
    "math.floor(123.9999)"
   ]
  },
  {
   "cell_type": "markdown",
   "metadata": {},
   "source": [
    "## Regular expressions\n",
    "set of all possible values that satify a given pattern\n",
    "\n",
    "0123456789\n",
    "[0-9]\n",
    "* this is a re to reprsent 0 to 9 values\n",
    "[a-z] \n",
    "* to represet set of lowercase alphabets from 'a' to 'z'.\n"
   ]
  },
  {
   "cell_type": "code",
   "execution_count": null,
   "metadata": {},
   "outputs": [],
   "source": [
    "^s*\n",
    "#^S means starting with s\n",
    "# s* means followed by s (any value)"
   ]
  },
  {
   "cell_type": "code",
   "execution_count": null,
   "metadata": {},
   "outputs": [],
   "source": []
  },
  {
   "cell_type": "code",
   "execution_count": 26,
   "metadata": {},
   "outputs": [
    {
     "name": "stdout",
     "output_type": "stream",
     "text": [
      "match\n"
     ]
    }
   ],
   "source": [
    "import re\n",
    "pattern='^g....$'\n",
    "domain='gmail'\n",
    "if re.match(pattern,domain):\n",
    "    print ('match')\n",
    "else:\n",
    "    print('does not match')"
   ]
  },
  {
   "cell_type": "code",
   "execution_count": 27,
   "metadata": {},
   "outputs": [
    {
     "name": "stdout",
     "output_type": "stream",
     "text": [
      "enter domain namegmail\n",
      "match\n"
     ]
    }
   ],
   "source": [
    "import re\n",
    "pattern='^g....$'\n",
    "domain=input('enter domain name')\n",
    "if re.match(pattern,domain):\n",
    "    print ('match')\n",
    "else:\n",
    "    print('does not match')"
   ]
  },
  {
   "cell_type": "code",
   "execution_count": 28,
   "metadata": {},
   "outputs": [
    {
     "name": "stdout",
     "output_type": "stream",
     "text": [
      "enter domain namej\n",
      "match\n"
     ]
    }
   ],
   "source": [
    "import re\n",
    "pattern='^[a-z]$'\n",
    "domain=input('enter domain name')\n",
    "if re.match(pattern,domain):\n",
    "    print ('match')\n",
    "else:\n",
    "    print('does not match')"
   ]
  },
  {
   "cell_type": "code",
   "execution_count": 31,
   "metadata": {},
   "outputs": [
    {
     "name": "stdout",
     "output_type": "stream",
     "text": [
      "enter domain nameuyt\n",
      "does not match\n"
     ]
    }
   ],
   "source": [
    "\n",
    "import re\n",
    "pattern='^[a-z]{2}$' # how many times repeats will specify in curly braces\n",
    "domain=input('enter domain name')\n",
    "if re.match(pattern,domain):\n",
    "    print ('match')\n",
    "else:\n",
    "    print('does not match')"
   ]
  },
  {
   "cell_type": "markdown",
   "metadata": {},
   "source": [
    "##  regex pal website for eg"
   ]
  },
  {
   "cell_type": "code",
   "execution_count": null,
   "metadata": {},
   "outputs": [],
   "source": []
  },
  {
   "cell_type": "code",
   "execution_count": 32,
   "metadata": {},
   "outputs": [
    {
     "name": "stdout",
     "output_type": "stream",
     "text": [
      "enter domain namehh\n",
      "does not match\n"
     ]
    }
   ],
   "source": [
    "import re\n",
    "pattern='^[a-z]$' \n",
    "domain=input('enter domain name')\n",
    "if re.match(pattern,domain):\n",
    "    print ('match')\n",
    "else:\n",
    "    print('does not match')"
   ]
  },
  {
   "cell_type": "code",
   "execution_count": 34,
   "metadata": {},
   "outputs": [
    {
     "name": "stdout",
     "output_type": "stream",
     "text": [
      "enter domain namejhgcyguuyyelgekgkayge\n",
      "does not match\n"
     ]
    }
   ],
   "source": [
    "import re\n",
    "pattern='^[a-z]{3,9}$' #limit from 3 times to 9 times\n",
    "domain=input('enter domain name')\n",
    "if re.match(pattern,domain):\n",
    "    print ('match')\n",
    "else:\n",
    "    print('does not match')"
   ]
  },
  {
   "cell_type": "markdown",
   "metadata": {},
   "source": []
  },
  {
   "cell_type": "markdown",
   "metadata": {},
   "source": [
    "## Problem\n",
    "to validate postal code\n",
    "## constraints\n",
    "not starting with zero\n",
    "length ofpincode must be 6 chars\n",
    "## test cases\n",
    "* 500001 - true\n",
    "* 203456 -true\n",
    "* 089766-false"
   ]
  },
  {
   "cell_type": "code",
   "execution_count": 3,
   "metadata": {},
   "outputs": [
    {
     "name": "stdout",
     "output_type": "stream",
     "text": [
      "enter domain name0jhgh\n",
      "invalid\n"
     ]
    }
   ],
   "source": [
    "\n",
    "import re\n",
    "pattern='^[1-9][0-9]{5}$' \n",
    "domain=input('enter domain name')\n",
    "if re.match(pattern,domain):\n",
    "    print('valid')\n",
    "else:\n",
    "    print('invalid')\n",
    "   "
   ]
  },
  {
   "cell_type": "markdown",
   "metadata": {},
   "source": [
    "## Problem\n",
    "to validate phone number\n",
    "\n",
    "## constraints\n",
    "not starting with 0 to 6 digits\n",
    "\n",
    "## test cases\n",
    "0898678990 -false\n",
    "9573732077 -true"
   ]
  },
  {
   "cell_type": "code",
   "execution_count": 2,
   "metadata": {},
   "outputs": [
    {
     "name": "stdout",
     "output_type": "stream",
     "text": [
      "enter phone  number+91789654321\n",
      "invalid\n"
     ]
    }
   ],
   "source": [
    "import re\n",
    "pattern='^[+][9][1][ ][6-9][0-9]{9}$' \n",
    "domain=input('enter phone  number')\n",
    "if re.match(pattern,domain):\n",
    "    print('valid')\n",
    "else:\n",
    "    print('invalid')"
   ]
  },
  {
   "cell_type": "markdown",
   "metadata": {},
   "source": [
    "## Problem statement\n",
    "Define a function to validate email addresses based on the following rules.\n",
    "##\n",
    "Email should be in the format username@domain.extension\n",
    "username must start with an alphabet and can contain lowercase alphabet, digits, hyphen(-) and underscores( _ ).\n",
    "username must not contain special characters, uppercase letters, whitespaces.\n",
    "Length of username must be in the range (6, 16)\n",
    "Domain can only contain lowercase alphabet and digits with length in range (3, 10) . No special characters are allowed\n",
    "Extension can only contain lower case alphabet and its length must be in the range (2, 4)\n",
    "First line of input contains total number of email addresses n.  Next n lines contain  n email addresses.\n",
    "\n",
    "Output must contain contain  n  lines with either 'Valid' or 'Invalid'\n",
    "# testcases\n",
    "Sample Input :  6\n",
    "\n",
    "abc456@gmail.com\n",
    "\n",
    "456abc@yahoo.com\n",
    "\n",
    "abc_456@gitam.ed1\n",
    "\n",
    "abc-456@abc-d.in\n",
    "\n",
    "python@python.edu\n",
    "\n",
    "abc 456@edu.edu\n",
    "\n",
    "Sample Output :   Valid\n",
    "\n",
    "Invalid\n",
    "\n",
    "Invalid\n",
    "\n",
    "Invalid\n",
    "\n",
    "Valid\n",
    "\n",
    "Invalid"
   ]
  },
  {
   "cell_type": "code",
   "execution_count": 1,
   "metadata": {},
   "outputs": [
    {
     "name": "stdout",
     "output_type": "stream",
     "text": [
      "enter emailpoojasr407@gmail.com\n",
      "valid\n"
     ]
    }
   ],
   "source": [
    "#^[a-z][a-z0-9_.-]{5,13}[a-z0-9][@][0-9a-z]{3,9}[.][a-z]{2,3}$\n",
    "import re\n",
    "pattern='^[a-z][a-z0-9_.-]{5,13}[a-z0-9][@][0-9a-z]{3,9}[.][a-z]{2,3}$'\n",
    "domain=input('enter email')\n",
    "if re.match(pattern,domain):\n",
    "    print('valid')\n",
    "else:\n",
    "    print('invalid')"
   ]
  },
  {
   "cell_type": "code",
   "execution_count": null,
   "metadata": {},
   "outputs": [],
   "source": []
  }
 ],
 "metadata": {
  "kernelspec": {
   "display_name": "Python 3",
   "language": "python",
   "name": "python3"
  },
  "language_info": {
   "codemirror_mode": {
    "name": "ipython",
    "version": 3
   },
   "file_extension": ".py",
   "mimetype": "text/x-python",
   "name": "python",
   "nbconvert_exporter": "python",
   "pygments_lexer": "ipython3",
   "version": "3.7.3"
  }
 },
 "nbformat": 4,
 "nbformat_minor": 2
}
