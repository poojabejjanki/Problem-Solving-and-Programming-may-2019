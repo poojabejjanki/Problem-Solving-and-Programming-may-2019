{
 "cells": [
  {
   "cell_type": "markdown",
   "metadata": {},
   "source": [
    "#### Name: B.Pooja\n",
    "#### Date:10-5-2019\n",
    "#### Topic: Recursion"
   ]
  },
  {
   "cell_type": "markdown",
   "metadata": {},
   "source": [
    "## Problem 1\n",
    "### Problem statement\n",
    "Program to find the power of a number using recursion.\n",
    "\n",
    "### Constraints\n",
    "Test Cases Test Case 1 Test Case 2"
   ]
  },
  {
   "cell_type": "code",
   "execution_count": 1,
   "metadata": {},
   "outputs": [
    {
     "data": {
      "text/plain": [
       "6561"
      ]
     },
     "execution_count": 1,
     "metadata": {},
     "output_type": "execute_result"
    }
   ],
   "source": [
    "def recursivepower(n,r):\n",
    "    if r == 1:\n",
    "        return n\n",
    "    else:\n",
    "        return recursivepower(n,r-1) * n\n",
    "recursivepower(3,8)"
   ]
  },
  {
   "cell_type": "markdown",
   "metadata": {},
   "source": [
    "## Problem 2\n",
    "#### Problem statement\n",
    "Program to find the factorial of a number.\n",
    "\n",
    "#### Constraints\n",
    "Test Cases\n",
    "Test Case 1\n",
    "Test Case 2"
   ]
  },
  {
   "cell_type": "code",
   "execution_count": 2,
   "metadata": {},
   "outputs": [
    {
     "data": {
      "text/plain": [
       "40320"
      ]
     },
     "execution_count": 2,
     "metadata": {},
     "output_type": "execute_result"
    }
   ],
   "source": [
    "def factorial(n):\n",
    "    if n == 1:\n",
    "        return n\n",
    "    else:\n",
    "        return factorial(n-1)*n\n",
    "factorial(8)"
   ]
  },
  {
   "cell_type": "markdown",
   "metadata": {},
   "source": [
    "\n",
    "## Problem 3:\n",
    "#### Problem statement\n",
    "Program to find the GCD of given two num bers using recursion.\n",
    "\n",
    "#### Constraints\n",
    "#### Test Cases\n",
    "Test Case 1 GCD(12,36) -> 12."
   ]
  },
  {
   "cell_type": "code",
   "execution_count": 3,
   "metadata": {},
   "outputs": [
    {
     "data": {
      "text/plain": [
       "12"
      ]
     },
     "execution_count": 3,
     "metadata": {},
     "output_type": "execute_result"
    }
   ],
   "source": [
    "# iterative GCD\n",
    "\n",
    "def gcditerative(a,b):\n",
    "    r=b%a\n",
    "    if r==0:\n",
    "        return a\n",
    "    while r != 0:\n",
    "        r = b%a\n",
    "        b = a \n",
    "        a = r\n",
    "        \n",
    "        \n",
    "    return b\n",
    " \n",
    "gcditerative(12,36)"
   ]
  },
  {
   "cell_type": "code",
   "execution_count": 4,
   "metadata": {},
   "outputs": [
    {
     "data": {
      "text/plain": [
       "3"
      ]
     },
     "execution_count": 4,
     "metadata": {},
     "output_type": "execute_result"
    }
   ],
   "source": [
    "# Recursive GCD\n",
    "\n",
    "\n",
    "def gcd(a,b):\n",
    "    if b%a == 0:\n",
    "        return a\n",
    "    else:\n",
    "        return gcd(b%a,a)\n",
    "gcd(12,39)"
   ]
  },
  {
   "cell_type": "markdown",
   "metadata": {},
   "source": [
    "## Problem 4:\n",
    "#### Problem statement\n",
    "Program to describe the sequence of steps for Towers of hanoi for n disks.\n",
    "\n",
    "#### Constraints\n",
    "#### Test Cases"
   ]
  },
  {
   "cell_type": "code",
   "execution_count": null,
   "metadata": {},
   "outputs": [],
   "source": [
    "n disks -> move n-1 disks from source to temporary.\n",
    "           move nth disk from source to destination.\n",
    "           move n-1 disks from temp to destination."
   ]
  },
  {
   "cell_type": "code",
   "execution_count": 5,
   "metadata": {},
   "outputs": [
    {
     "name": "stdout",
     "output_type": "stream",
     "text": [
      "move 1 disk from  a to c\n",
      "move 2 disk from a to b\n",
      "move 1 disk from  c to b\n",
      "move 3 disk from a to c\n",
      "move 1 disk from  b to a\n",
      "move 2 disk from b to c\n",
      "move 1 disk from  a to c\n"
     ]
    }
   ],
   "source": [
    "def towersofHanoi(n,source,temp,destination):\n",
    "    if n == 1:\n",
    "        print(\"move\" ,n ,\"disk from \" ,source ,\"to\" ,destination )\n",
    "        return\n",
    "    else:\n",
    "        towersofHanoi(n-1,source,destination,temp)\n",
    "        print(\"move\" ,n ,\"disk from\" ,source ,\"to\" ,destination)\n",
    "        towersofHanoi(n-1,temp,source,destination)\n",
    "        return\n",
    "towersofHanoi(3,'a','b','c')"
   ]
  },
  {
   "cell_type": "markdown",
   "metadata": {},
   "source": [
    "## Problem 5:\n",
    "### Problem statement\n",
    "Program to generate the nth fibonacii number.\n",
    "\n",
    "### Constraints\n",
    "### Test Cases"
   ]
  },
  {
   "cell_type": "code",
   "execution_count": 6,
   "metadata": {},
   "outputs": [
    {
     "data": {
      "text/plain": [
       "13"
      ]
     },
     "execution_count": 6,
     "metadata": {},
     "output_type": "execute_result"
    }
   ],
   "source": [
    "def fibonaci(index):\n",
    "    if index == 0:\n",
    "        return \"in valid\"\n",
    "    if index == 1:\n",
    "        return 0\n",
    "    if index ==2:\n",
    "        return 1\n",
    "    else:\n",
    "        return fibonaci(index-1) + fibonaci(index-2)       \n",
    "fibonaci(8)"
   ]
  },
  {
   "cell_type": "code",
   "execution_count": null,
   "metadata": {},
   "outputs": [],
   "source": []
  },
  {
   "cell_type": "code",
   "execution_count": null,
   "metadata": {},
   "outputs": [],
   "source": []
  },
  {
   "cell_type": "code",
   "execution_count": null,
   "metadata": {},
   "outputs": [],
   "source": []
  }
 ],
 "metadata": {
  "kernelspec": {
   "display_name": "Python 3",
   "language": "python",
   "name": "python3"
  },
  "language_info": {
   "codemirror_mode": {
    "name": "ipython",
    "version": 3
   },
   "file_extension": ".py",
   "mimetype": "text/x-python",
   "name": "python",
   "nbconvert_exporter": "python",
   "pygments_lexer": "ipython3",
   "version": "3.7.3"
  }
 },
 "nbformat": 4,
 "nbformat_minor": 2
}
