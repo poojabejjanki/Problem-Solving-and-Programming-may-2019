{
 "cells": [
  {
   "cell_type": "markdown",
   "metadata": {},
   "source": [
    "### Problem 1:\n",
    "\n",
    "#### Problem Statement: You are given n words. Some words may repeat. For each word, output its number of occurrences. The output order should correspond with the input order of appearance of the word. First line of input contains the total number of words n. Next n lines contain words that need to processed.First line of the output should contain the total number distinct words. Second line of output must contain the frequency of words the same order of their appearance as in the input\n",
    "\n",
    "#### CONSTRAINTS: \n",
    "\n",
    "\n",
    "#### Test cases\n",
    "* Sample Input :  6\n",
    "\n",
    "                abcd\n",
    " \n",
    "                ijkl\n",
    "\n",
    "                abcd\n",
    "\n",
    "                pqrs\n",
    "\n",
    "                abcd\n",
    "\n",
    "                ijkl\n",
    "\n",
    "* Sample Output : 3\n",
    "\n",
    "                 3  2  1\n",
    "\n"
   ]
  },
  {
   "cell_type": "code",
   "execution_count": 2,
   "metadata": {},
   "outputs": [
    {
     "name": "stdout",
     "output_type": "stream",
     "text": [
      "3\n",
      "3 2 1 "
     ]
    }
   ],
   "source": [
    "def unique(ar):\n",
    "    u = []\n",
    "    for x in ar:\n",
    "        if x not in u:\n",
    "            u.append(x)\n",
    "    print(len(u),end='\\n')\n",
    "    return u\n",
    "\n",
    "def wordcount(a):\n",
    "    u=unique(a)\n",
    "    for x in u:\n",
    "        count=0\n",
    "        for j in range(len(a)):\n",
    "            if x==a[j]:\n",
    "                count=count+1\n",
    "        print(count,end=' ')\n",
    "        \n",
    "wordcount(['abcd','lijk','abcd','abcd','pqrs','lijk'])\n"
   ]
  }
 ],
 "metadata": {
  "kernelspec": {
   "display_name": "Python 3",
   "language": "python",
   "name": "python3"
  },
  "language_info": {
   "codemirror_mode": {
    "name": "ipython",
    "version": 3
   },
   "file_extension": ".py",
   "mimetype": "text/x-python",
   "name": "python",
   "nbconvert_exporter": "python",
   "pygments_lexer": "ipython3",
   "version": "3.7.3"
  }
 },
 "nbformat": 4,
 "nbformat_minor": 2
}
