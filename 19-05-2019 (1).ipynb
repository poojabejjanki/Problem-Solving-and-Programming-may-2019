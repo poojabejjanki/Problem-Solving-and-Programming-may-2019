{
 "cells": [
  {
   "cell_type": "markdown",
   "metadata": {},
   "source": [
    "#### Name : B.Pooja\n",
    "#### Date : 19-05-2019\n",
    "\n",
    "\n",
    "\n",
    "\n",
    "### problem no :1\n",
    "### Problem Stataement\n",
    "\n",
    "\n",
    "Consider the following algorithm to generate a sequence of numbers. Start with an integer n. If n is even, divide by 2.\n",
    "If n is odd, multiply by 3 and add 1. Repeat this process with the new value of n, terminating when n = 1. For example, \n",
    "the following sequence of numbers will be generated for n = 22:\n",
    "\n",
    "22 11 34 17 52 26 13 40 20 10 5 16 8 4 2 1\n",
    "\n",
    "It is conjectured (but not yet proven) that this algorithm will terminate at n = 1 for every integer n. Still, the conjectu\n",
    "re holds for all integers up to at least 1, 000, 000. For an input n, the cycle-length of n is the number of numbers gener\n",
    "ated up to and including the 1. In the example above, the cycle length of 22 is 16. Given any two numbers i and j, you are\n",
    "to determine the maximum cycle length over all numbers between i and j, including both endpoints.\n",
    "\n",
    "### constraints\n",
    "### Test cases"
   ]
  },
  {
   "cell_type": "code",
   "execution_count": null,
   "metadata": {},
   "outputs": [],
   "source": [
    "1\n",
    "\n",
    "3\n",
    "\n",
    "1->1\n",
    "\n",
    "2->2/2->\n",
    "2  1\n",
    "\n",
    "3->3*3+1=10->10/2="
   ]
  },
  {
   "cell_type": "code",
   "execution_count": 6,
   "metadata": {},
   "outputs": [
    {
     "name": "stdout",
     "output_type": "stream",
     "text": [
      "enter lb value1\n",
      "enter ub  value3\n",
      "[3]\n",
      "[4, 1, 10]\n"
     ]
    }
   ],
   "source": [
    "li=[]\n",
    "ct=[]\n",
    "#li[0]=m\n",
    "def fun(lb,ub): \n",
    "    for i in range(lb,ub+1):       \n",
    "        if i%2==0:\n",
    "            #i=i/2\n",
    "            \n",
    "            i=i/2\n",
    "        else:\n",
    "            \n",
    "            i=(i*3)+1\n",
    "        li.append(i)\n",
    "            \n",
    "\n",
    "    ct.append(len(li))\n",
    "    print(ct)\n",
    "    print(li)\n",
    "    \n",
    "        \n",
    "\n",
    "\n",
    "lb=int(input('enter lb value'))\n",
    "ub=int(input('enter ub  value'))\n",
    "fun(lb,ub)"
   ]
  },
  {
   "cell_type": "code",
   "execution_count": 15,
   "metadata": {},
   "outputs": [
    {
     "name": "stdout",
     "output_type": "stream",
     "text": [
      "enter lb value900\n",
      "enter ub  value1000\n"
     ]
    },
    {
     "data": {
      "text/plain": [
       "174"
      ]
     },
     "execution_count": 15,
     "metadata": {},
     "output_type": "execute_result"
    }
   ],
   "source": [
    "li=[]\n",
    "def genserlen(n):\n",
    "    li=[]\n",
    "    len=1\n",
    "    while n!=1:\n",
    "        if n% 2==0:                  \n",
    "            n=n/2\n",
    "        else:\n",
    "            n=n*3+1\n",
    "        len += 1        \n",
    "    return len        \n",
    "\n",
    "def ms(lb,ub):\n",
    "    maxl=1\n",
    "    for i in range(lb,ub+1):\n",
    "        len=genserlen(i)\n",
    "        if maxl<len:\n",
    "            maxl=len\n",
    "    return maxl\n",
    "    \n",
    "    \n",
    "\n",
    "\n",
    "lb=int(input('enter lb value'))\n",
    "ub=int(input('enter ub  value'))\n",
    "ms(lb,ub)\n",
    "#fun(lb,ub)"
   ]
  },
  {
   "cell_type": "code",
   "execution_count": 4,
   "metadata": {},
   "outputs": [
    {
     "name": "stdout",
     "output_type": "stream",
     "text": [
      "enter lb value900\n",
      "enter ub  value1000\n"
     ]
    },
    {
     "data": {
      "text/plain": [
       "174"
      ]
     },
     "execution_count": 4,
     "metadata": {},
     "output_type": "execute_result"
    }
   ],
   "source": [
    "li=[]\n",
    "def genserlen(n):\n",
    "    li=[]\n",
    "    len=1\n",
    "    while n!=1:\n",
    "        if n% 2==0:                  \n",
    "            n=n/2\n",
    "        else:\n",
    "            n=n*3+1\n",
    "        len += 1        \n",
    "    return len        \n",
    "\n",
    "def ms(i,j):\n",
    "    return max(map(genserlen,range(i,j+1)))\n",
    "\n",
    "lb=int(input('enter lb value'))\n",
    "ub=int(input('enter ub  value'))\n",
    "ms(lb,ub)"
   ]
  },
  {
   "cell_type": "code",
   "execution_count": null,
   "metadata": {},
   "outputs": [],
   "source": [
    "n,n/2 or 3n+1\n",
    "\n",
    "4\n",
    "len(4,2,1)=3\n",
    "range i,j+1\n",
    "i, i+1,i+2-----j"
   ]
  },
  {
   "cell_type": "code",
   "execution_count": 2,
   "metadata": {},
   "outputs": [
    {
     "name": "stdout",
     "output_type": "stream",
     "text": [
      "enter lb value201\n",
      "enter ub  value210\n"
     ]
    },
    {
     "data": {
      "text/plain": [
       "89"
      ]
     },
     "execution_count": 2,
     "metadata": {},
     "output_type": "execute_result"
    }
   ],
   "source": [
    "li=[]\n",
    "def genserlen(n):\n",
    "    li=[]\n",
    "    len=1\n",
    "    while n!=1:\n",
    "        if n% 2==0:                  \n",
    "            n=n/2\n",
    "        else:\n",
    "            n=n*3+1\n",
    "        len += 1        \n",
    "    return len        \n",
    "\n",
    "def ms(i,j):\n",
    "    maxl=0\n",
    "    lenlist=[genserlen(k) for k in range(i,j+1)]\n",
    "    return max(lenlist)\n",
    "\n",
    "lb=int(input('enter lb value'))\n",
    "ub=int(input('enter ub  value'))\n",
    "ms(lb,ub)"
   ]
  }
 ],
 "metadata": {
  "kernelspec": {
   "display_name": "Python 3",
   "language": "python",
   "name": "python3"
  },
  "language_info": {
   "codemirror_mode": {
    "name": "ipython",
    "version": 3
   },
   "file_extension": ".py",
   "mimetype": "text/x-python",
   "name": "python",
   "nbconvert_exporter": "python",
   "pygments_lexer": "ipython3",
   "version": "3.7.3"
  }
 },
 "nbformat": 4,
 "nbformat_minor": 2
}
